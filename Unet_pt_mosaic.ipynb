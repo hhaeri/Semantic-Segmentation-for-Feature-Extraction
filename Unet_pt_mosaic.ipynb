{
  "nbformat": 4,
  "nbformat_minor": 0,
  "metadata": {
    "colab": {
      "provenance": [],
      "gpuClass": "premium",
      "authorship_tag": "ABX9TyN0NcV+BdLWAxkyI47lhsfC",
      "include_colab_link": true
    },
    "kernelspec": {
      "name": "python3",
      "display_name": "Python 3"
    },
    "language_info": {
      "name": "python"
    },
    "accelerator": "GPU",
    "gpuClass": "premium"
  },
  "cells": [
    {
      "cell_type": "markdown",
      "metadata": {
        "id": "view-in-github",
        "colab_type": "text"
      },
      "source": [
        "<a href=\"https://colab.research.google.com/github/hhaeri/Semantic-Segmentation-for-Feature-Extraction/blob/main/Unet_pt_mosaic.ipynb\" target=\"_parent\"><img src=\"https://colab.research.google.com/assets/colab-badge.svg\" alt=\"Open In Colab\"/></a>"
      ]
    },
    {
      "cell_type": "code",
      "execution_count": null,
      "metadata": {
        "id": "p6uRp5aPDMCV"
      },
      "outputs": [],
      "source": [
        "import os\n",
        "import cv2\n",
        "import numpy as np\n",
        "from matplotlib import pyplot as plt\n",
        "import random"
      ]
    },
    {
      "cell_type": "code",
      "source": [
        "!pip install -U segmentation-models\n",
        "\n",
        "\n",
        "import tensorflow as tf\n",
        "import tensorflow.keras as keras\n",
        "import segmentation_models as sm\n",
        "from tensorflow.keras.metrics import MeanIoU\n",
        "\n"
      ],
      "metadata": {
        "id": "VEsRg_0QEUF7"
      },
      "execution_count": null,
      "outputs": []
    },
    {
      "cell_type": "code",
      "metadata": {
        "id": "fV7qxWnqCQCJ"
      },
      "source": [
        "# # Check if GPU is available\n",
        "device_name = tf.test.gpu_device_name()\n",
        "if device_name != '/device:GPU:0':\n",
        "  raise SystemError('GPU device not found')\n",
        "print('Found GPU at: {}'.format(device_name))"
      ],
      "execution_count": null,
      "outputs": []
    },
    {
      "cell_type": "code",
      "metadata": {
        "id": "9kFl7Cj0CZ_7"
      },
      "source": [
        "from google.colab import drive\n",
        "# This will prompt for authorization.\n",
        "mount = '/content/gdrive/'\n",
        "drive.mount(mount)\n",
        "#!ls '/content/drive/'"
      ],
      "execution_count": null,
      "outputs": []
    },
    {
      "cell_type": "code",
      "source": [
        "drive_root = mount + \"/My Drive/Colab Notebooks/DARPA_Map_Feature_Extraction_Challenge\"\n",
        "\n",
        "# # Create drive_root if it doesn't exist\n",
        "# create_drive_root = True\n",
        "# if create_drive_root:\n",
        "#   os.makedirs(drive_root, exist_ok=True)\n",
        "\n",
        "# Change to the directory\n",
        "%cd $drive_root\n",
        "\n",
        "# Verify we're in the correct working directory\n",
        "%pwd"
      ],
      "metadata": {
        "id": "QSuntjnglga_"
      },
      "execution_count": null,
      "outputs": []
    },
    {
      "cell_type": "code",
      "source": [
        "#Fetch and unzip the data\n",
        "!unzip '/content/gdrive/MyDrive/Colab Notebooks/DARPA_Map_Feature_Extraction_Challenge/256_patches_useful.zip' -d '/content'"
      ],
      "metadata": {
        "id": "zcd-XHARHZBV"
      },
      "execution_count": null,
      "outputs": []
    },
    {
      "cell_type": "code",
      "source": [
        "!unzip '/content/gdrive/MyDrive/Colab Notebooks/DARPA_Map_Feature_Extraction_Challenge/256_useful_pt_mosaic_masks.zip' -d '/content/256_patches_useful'"
      ],
      "metadata": {
        "id": "gfSXHRupICSw"
      },
      "execution_count": null,
      "outputs": []
    },
    {
      "cell_type": "code",
      "source": [
        "################################################################\n",
        "\n",
        "# Define Generator for images and masks so we can read them directly from the drive.\n",
        "\n",
        "seed=24\n",
        "batch_size= 16\n",
        "n_classes=6\n",
        "\n",
        "from sklearn.preprocessing import MinMaxScaler\n",
        "scaler = MinMaxScaler()\n",
        "from keras.utils import to_categorical\n",
        "\n",
        "#Use this to preprocess input for transfer learning\n",
        "BACKBONE = 'resnet34'\n",
        "preprocess_input = sm.get_preprocessing(BACKBONE)\n",
        "\n",
        "#Define a function to perform additional preprocessing after datagen.\n",
        "#For example, scale images, convert masks to categorical, etc.\n",
        "def preprocess_data(img, mask, num_class):\n",
        "    #Scale images\n",
        "    img = scaler.fit_transform(img.reshape(-1, img.shape[-1])).reshape(img.shape)\n",
        "    img = preprocess_input(img)  #Preprocess based on the pretrained backbone...\n",
        "    #Convert mask to one-hot\n",
        "    mask = to_categorical(mask, num_class)\n",
        "\n",
        "    return (img,mask)\n",
        "\n",
        "#Define the generator.\n",
        "#We are not doing any rotation or zoom to make sure mask values are not interpolated.\n",
        "#It is important to keep pixel values in mask as 0, 1, 2, 3, .....\n",
        "from tensorflow.keras.preprocessing.image import ImageDataGenerator\n",
        "def trainGenerator(train_img_path, train_mask_path, num_class):\n",
        "\n",
        "    img_data_gen_args = dict(horizontal_flip=True,\n",
        "                      vertical_flip=True,\n",
        "                      fill_mode='reflect')\n",
        "\n",
        "    image_datagen = ImageDataGenerator(**img_data_gen_args)\n",
        "    mask_datagen = ImageDataGenerator(**img_data_gen_args)\n",
        "\n",
        "    image_generator = image_datagen.flow_from_directory(\n",
        "        train_img_path,\n",
        "        class_mode = None,\n",
        "        batch_size = batch_size,\n",
        "        seed = seed)\n",
        "\n",
        "    mask_generator = mask_datagen.flow_from_directory(\n",
        "        train_mask_path,\n",
        "        class_mode = None,\n",
        "        color_mode = 'grayscale',\n",
        "        batch_size = batch_size,\n",
        "        seed = seed)\n",
        "\n",
        "    train_generator = zip(image_generator, mask_generator)\n",
        "\n",
        "    for (img, mask) in train_generator:\n",
        "        img, mask = preprocess_data(img, mask, num_class)\n",
        "        yield (img, mask)\n",
        "\n"
      ],
      "metadata": {
        "id": "lrjbkIfHDOUA"
      },
      "execution_count": null,
      "outputs": []
    },
    {
      "cell_type": "code",
      "source": [
        "!pip install split-folders\n"
      ],
      "metadata": {
        "id": "-mXJWNTfJ_ka"
      },
      "execution_count": null,
      "outputs": []
    },
    {
      "cell_type": "code",
      "source": [
        "%pwd"
      ],
      "metadata": {
        "id": "NK7I8kqHKDpV"
      },
      "execution_count": null,
      "outputs": []
    },
    {
      "cell_type": "code",
      "source": [
        "\n",
        "import splitfolders  # or import split_folders\n",
        "\n",
        "input_folder = '/content/256_patches_useful'\n",
        "output_folder = '/content/256_patches_useful/data_for_training_and_testing/'\n",
        "# Split with a ratio.\n",
        "# To only split into training and validation set, set a tuple to `ratio`, i.e, `(.8, .2)`.\n",
        "splitfolders.ratio(input_folder, output=output_folder, seed=42, ratio=(.8, .2), group_prefix=None) # default values\n"
      ],
      "metadata": {
        "id": "_nrecIJxJx4m"
      },
      "execution_count": null,
      "outputs": []
    },
    {
      "cell_type": "code",
      "source": [],
      "metadata": {
        "id": "DutXjgBZR9_U"
      },
      "execution_count": null,
      "outputs": []
    },
    {
      "cell_type": "code",
      "source": [
        "\n",
        "train_img_path  = \"/content/256_patches_useful/data_for_training_and_testing/train/images/\"\n",
        "train_mask_path = \"/content/256_patches_useful/data_for_training_and_testing/train/256_useful_pt_mosaic_masks/\"\n",
        "train_img_gen = trainGenerator(train_img_path, train_mask_path, num_class=6)\n",
        "\n",
        "val_img_path  = \"/content/256_patches_useful/data_for_training_and_testing/val/images/\"\n",
        "val_mask_path = \"/content/256_patches_useful/data_for_training_and_testing/val/256_useful_pt_mosaic_masks/\"\n",
        "val_img_gen = trainGenerator(val_img_path, val_mask_path, num_class=6)\n",
        "\n",
        "#Make sure the generator is working and that images and masks are indeed lined up.\n",
        "#Verify generator.... In python 3 next() is renamed as __next__()\n",
        "x, y = train_img_gen.__next__()\n",
        "\n",
        "for i in range(0,3):\n",
        "    image = x[i]\n",
        "    mask = np.argmax(y[i], axis=2)\n",
        "    plt.subplot(1,2,1)\n",
        "    plt.imshow(image)\n",
        "    plt.subplot(1,2,2)\n",
        "    plt.imshow(mask, cmap='gray')\n",
        "    plt.show()\n",
        "\n",
        "x_val, y_val = val_img_gen.__next__()\n",
        "\n",
        "for i in range(0,3):\n",
        "    image = x_val[i]\n",
        "    mask = np.argmax(y_val[i], axis=2)\n",
        "    plt.subplot(1,2,1)\n",
        "    plt.imshow(image)\n",
        "    plt.subplot(1,2,2)\n",
        "    plt.imshow(mask, cmap='gray')\n",
        "    plt.show()\n"
      ],
      "metadata": {
        "id": "lDo6fThTJw6B"
      },
      "execution_count": null,
      "outputs": []
    },
    {
      "cell_type": "code",
      "source": [
        "###########################################################################\n",
        "#Define the model metrcis and load model.\n",
        "\n",
        "num_train_imgs = len(os.listdir('data/data_for_keras_aug/train_images/train/'))\n",
        "num_val_images = len(os.listdir('data/data_for_keras_aug/val_images/val/'))\n",
        "steps_per_epoch = num_train_imgs//batch_size\n",
        "val_steps_per_epoch = num_val_images//batch_size\n",
        "\n",
        "\n",
        "IMG_HEIGHT = x.shape[1]\n",
        "IMG_WIDTH  = x.shape[2]\n",
        "IMG_CHANNELS = x.shape[3]\n",
        "\n",
        "n_classes=4\n"
      ],
      "metadata": {
        "id": "9iHK0JSODe4A"
      },
      "execution_count": null,
      "outputs": []
    },
    {
      "cell_type": "code",
      "source": [
        "#############################################################################\n",
        "#Use transfer learning using pretrained encoder in the U-Net\n",
        "#(make sure you uncomment the preprocess_input part in the\n",
        "# preprocess_data function above)\n",
        "################################################################\n",
        "#Define the model\n",
        "# define model\n",
        "model = sm.Unet(BACKBONE, encoder_weights='imagenet',\n",
        "                input_shape=(IMG_HEIGHT, IMG_WIDTH, IMG_CHANNELS),\n",
        "                classes=n_classes, activation='softmax')\n",
        "model.compile('Adam', loss=sm.losses.categorical_focal_jaccard_loss, metrics=[sm.metrics.iou_score])\n",
        "\n",
        "#Other losses to try: categorical_focal_dice_loss, cce_jaccard_loss, cce_dice_loss, categorical_focal_loss\n",
        "\n",
        "#model.compile(optimizer='adam', loss='categorical_crossentropy', metrics=metrics)\n",
        "print(model.summary())\n",
        "print(model.input_shape)\n",
        "#Fit the model\n",
        "#history = model.fit(my_generator, validation_data=validation_datagen, steps_per_epoch=len(X_train) // 16, validation_steps=len(X_train) // 16, epochs=100)\n",
        "#Train the model.\n",
        "history=model.fit(train_img_gen,\n",
        "          steps_per_epoch=steps_per_epoch,\n",
        "          epochs=25,\n",
        "          verbose=1,\n",
        "          validation_data=val_img_gen,\n",
        "          validation_steps=val_steps_per_epoch)\n",
        "\n",
        "model.save('landcover_25_epochs_RESNET_backbone_batch16.hdf5')\n"
      ],
      "metadata": {
        "id": "mWKRaLUMDhsp"
      },
      "execution_count": null,
      "outputs": []
    },
    {
      "cell_type": "code",
      "source": [
        "##################################################################\n",
        "#plot the training and validation IoU and loss at each epoch\n",
        "loss = history.history['loss']\n",
        "val_loss = history.history['val_loss']\n",
        "epochs = range(1, len(loss) + 1)\n",
        "plt.plot(epochs, loss, 'y', label='Training loss')\n",
        "plt.plot(epochs, val_loss, 'r', label='Validation loss')\n",
        "plt.title('Training and validation loss')\n",
        "plt.xlabel('Epochs')\n",
        "plt.ylabel('Loss')\n",
        "plt.legend()\n",
        "plt.show()\n",
        "\n",
        "acc = history.history['iou_score']\n",
        "val_acc = history.history['val_iou_score']\n",
        "\n",
        "plt.plot(epochs, acc, 'y', label='Training IoU')\n",
        "plt.plot(epochs, val_acc, 'r', label='Validation IoU')\n",
        "plt.title('Training and validation IoU')\n",
        "plt.xlabel('Epochs')\n",
        "plt.ylabel('IoU')\n",
        "plt.legend()\n",
        "plt.show()\n",
        "\n",
        "#####################################################\n"
      ],
      "metadata": {
        "id": "p19joujvDwXc"
      },
      "execution_count": null,
      "outputs": []
    },
    {
      "cell_type": "code",
      "source": [
        "#####################################################\n",
        "\n",
        "from keras.models import load_model\n",
        "\n",
        "model = load_model(\"landcover_25_epochs_RESNET_backbone_batch16.hdf5\", compile=False)\n",
        "\n",
        "#batch_size=32 #Check IoU for a batch of images\n",
        "\n",
        "#Test generator using validation data.\n",
        "\n",
        "test_image_batch, test_mask_batch = val_img_gen.__next__()\n",
        "\n",
        "#Convert categorical to integer for visualization and IoU calculation\n",
        "test_mask_batch_argmax = np.argmax(test_mask_batch, axis=3)\n",
        "test_pred_batch = model.predict(test_image_batch)\n",
        "test_pred_batch_argmax = np.argmax(test_pred_batch, axis=3)\n",
        "\n",
        "n_classes = 4\n",
        "IOU_keras = MeanIoU(num_classes=n_classes)\n",
        "IOU_keras.update_state(test_pred_batch_argmax, test_mask_batch_argmax)\n",
        "print(\"Mean IoU =\", IOU_keras.result().numpy())\n"
      ],
      "metadata": {
        "id": "xMohp6anDzSn"
      },
      "execution_count": null,
      "outputs": []
    },
    {
      "cell_type": "code",
      "source": [
        "#######################################################\n",
        "#View a few images, masks and corresponding predictions.\n",
        "img_num = random.randint(0, test_image_batch.shape[0]-1)\n",
        "\n",
        "plt.figure(figsize=(12, 8))\n",
        "plt.subplot(231)\n",
        "plt.title('Testing Image')\n",
        "plt.imshow(test_image_batch[img_num])\n",
        "plt.subplot(232)\n",
        "plt.title('Testing Label')\n",
        "plt.imshow(test_mask_batch_argmax[img_num])\n",
        "plt.subplot(233)\n",
        "plt.title('Prediction on test image')\n",
        "plt.imshow(test_pred_batch_argmax[img_num])\n",
        "plt.show()"
      ],
      "metadata": {
        "id": "cfj09tCOD42O"
      },
      "execution_count": null,
      "outputs": []
    }
  ]
}